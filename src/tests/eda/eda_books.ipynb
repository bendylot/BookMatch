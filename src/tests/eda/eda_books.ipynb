﻿{
 "cells": [
  {
   "cell_type": "code",
   "id": "initial_id",
   "metadata": {
    "ExecuteTime": {
     "end_time": "2025-09-22T02:37:00.269269Z",
     "start_time": "2025-09-22T02:36:58.909240Z"
    }
   },
   "source": [
    "import pandas as pd\n",
    "from src.tests.eda.get_dataframe import get_dataframe\n",
    "from src.tests.eda.clean_dataframe import books_clean_dataframe, book_rating_clean_dataframe\n",
    "\n",
    "# Работа с книгами\n",
    "df_books = get_dataframe(\"datasets/BX-Dataset/BX_Books.csv\")\n",
    "df_books_cleaned = books_clean_dataframe(df_books)"
   ],
   "outputs": [],
   "execution_count": 37
  },
  {
   "metadata": {
    "ExecuteTime": {
     "end_time": "2025-09-22T04:02:16.692971Z",
     "start_time": "2025-09-22T04:02:15.597474Z"
    }
   },
   "cell_type": "code",
   "source": [
    "# Работа с рейтингами\n",
    "df_book_ratings = get_dataframe(\"datasets/BX-Dataset/BX-Book-Ratings.csv\")\n",
    "df_book_ratings_cleaned = book_rating_clean_dataframe(df_book_ratings)\n",
    "# df_book_ratings_cleaned.info()\n",
    "top_users = df_book_ratings_cleaned['User-ID'].value_counts().head(10)\n",
    "books = df_book_ratings_cleaned['ISBN']\n",
    "books_dict = df_book_ratings_cleaned.set_index('ISBN')['Book-Rating'].to_dict()\n",
    "top_10_books = books.value_counts().head(10)\n",
    "\n",
    "mean_ratings = (\n",
    "    df_book_ratings_cleaned\n",
    "    .groupby(\"ISBN\")[\"Book-Rating\"]\n",
    "    .mean()\n",
    ")\n",
    "# средний рейтинг только для этих ISBN\n",
    "mean_ratings = mean_ratings[top_10_books.index]\n",
    "series_necessary_isbn = df_books_cleaned.reindex(top_10_books.index)[\"Book-Title\"]\n",
    "books = pd.DataFrame(\n",
    "    {\n",
    "        \"Title\": series_necessary_isbn.values.tolist(),\n",
    "        \"Mean-Ratings\": mean_ratings.values.tolist(),\n",
    "    }\n",
    ")\n",
    "print(books)\n"
   ],
   "id": "89dd2d9f382327d7",
   "outputs": [
    {
     "name": "stdout",
     "output_type": "stream",
     "text": [
      "                                               Title  Mean-Ratings\n",
      "0                          The Lovely Bones: A Novel      8.185290\n",
      "1                                        Wild Animus      4.390706\n",
      "2                                  The Da Vinci Code      8.435318\n",
      "3                The Red Tent (Bestselling Backlist)      8.182768\n",
      "4                                                NaN      8.408408\n",
      "5    Divine Secrets of the Ya-Ya Sisterhood: A Novel      7.887500\n",
      "6  Harry Potter and the Sorcerer's Stone (Harry P...      8.939297\n",
      "7                            The Secret Life of Bees      8.452769\n",
      "8  Where the Heart Is (Oprah's Book Club (Paperba...      8.142373\n",
      "9                                    A Painted House      7.338078\n"
     ]
    }
   ],
   "execution_count": 47
  }
 ],
 "metadata": {
  "kernelspec": {
   "display_name": "Python 3",
   "language": "python",
   "name": "python3"
  },
  "language_info": {
   "codemirror_mode": {
    "name": "ipython",
    "version": 2
   },
   "file_extension": ".py",
   "mimetype": "text/x-python",
   "name": "python",
   "nbconvert_exporter": "python",
   "pygments_lexer": "ipython2",
   "version": "2.7.6"
  }
 },
 "nbformat": 4,
 "nbformat_minor": 5
}
